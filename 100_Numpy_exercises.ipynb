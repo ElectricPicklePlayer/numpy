{
 "cells": [
  {
   "cell_type": "markdown",
   "metadata": {},
   "source": [
    "# 100 numpy exercises\n",
    "\n",
    "This is a collection of exercises that have been collected in the numpy mailing list, on stack overflow\n",
    "and in the numpy documentation. The goal of this collection is to offer a quick reference for both old\n",
    "and new users but also to provide a set of exercises for those who teach.\n",
    "\n",
    "\n",
    "If you find an error or think you've a better way to solve some of them, feel\n",
    "free to open an issue at <https://github.com/rougier/numpy-100>."
   ]
  },
  {
   "cell_type": "markdown",
   "metadata": {},
   "source": [
    "File automatically generated. See the documentation to update questions/answers/hints programmatically."
   ]
  },
  {
   "cell_type": "markdown",
   "metadata": {},
   "source": [
    "Run the `initialize.py` module, then for each question you can query the\n",
    "answer or an hint with `hint(n)` or `answer(n)` for `n` question number."
   ]
  },
  {
   "cell_type": "code",
   "execution_count": 31,
   "metadata": {},
   "outputs": [],
   "source": [
    "import sys\n",
    "from matplotlib import pyplot as plt\n",
    "# !{sys.executable} -m pip install mdutils"
   ]
  },
  {
   "cell_type": "code",
   "execution_count": 8,
   "metadata": {},
   "outputs": [],
   "source": [
    "%run initialise.py"
   ]
  },
  {
   "cell_type": "markdown",
   "metadata": {},
   "source": [
    "#### 1. Import the numpy package under the name `np` (★☆☆)"
   ]
  },
  {
   "cell_type": "code",
   "execution_count": 1,
   "metadata": {},
   "outputs": [],
   "source": [
    "import numpy as np"
   ]
  },
  {
   "cell_type": "markdown",
   "metadata": {},
   "source": [
    "#### 2. Print the numpy version and the configuration (★☆☆)"
   ]
  },
  {
   "cell_type": "code",
   "execution_count": 2,
   "metadata": {},
   "outputs": [
    {
     "name": "stdout",
     "output_type": "stream",
     "text": [
      "Numpy version: 1.19.1\n",
      "\n",
      "blas_mkl_info:\n",
      "  NOT AVAILABLE\n",
      "blis_info:\n",
      "  NOT AVAILABLE\n",
      "openblas_info:\n",
      "    libraries = ['openblas', 'openblas']\n",
      "    library_dirs = ['/usr/local/lib']\n",
      "    language = c\n",
      "    define_macros = [('HAVE_CBLAS', None)]\n",
      "blas_opt_info:\n",
      "    libraries = ['openblas', 'openblas']\n",
      "    library_dirs = ['/usr/local/lib']\n",
      "    language = c\n",
      "    define_macros = [('HAVE_CBLAS', None)]\n",
      "lapack_mkl_info:\n",
      "  NOT AVAILABLE\n",
      "openblas_lapack_info:\n",
      "    libraries = ['openblas', 'openblas']\n",
      "    library_dirs = ['/usr/local/lib']\n",
      "    language = c\n",
      "    define_macros = [('HAVE_CBLAS', None)]\n",
      "lapack_opt_info:\n",
      "    libraries = ['openblas', 'openblas']\n",
      "    library_dirs = ['/usr/local/lib']\n",
      "    language = c\n",
      "    define_macros = [('HAVE_CBLAS', None)]\n"
     ]
    }
   ],
   "source": [
    "print(f'Numpy version: {np.__version__}\\n')\n",
    "np.show_config()"
   ]
  },
  {
   "cell_type": "markdown",
   "metadata": {},
   "source": [
    "#### 3. Create a null vector of size 10 (★☆☆)"
   ]
  },
  {
   "cell_type": "code",
   "execution_count": 12,
   "metadata": {},
   "outputs": [
    {
     "data": {
      "text/plain": [
       "array([0., 0., 0., 0., 0., 0., 0., 0., 0., 0.])"
      ]
     },
     "execution_count": 12,
     "metadata": {},
     "output_type": "execute_result"
    }
   ],
   "source": [
    "A = np.zeros((10))\n",
    "A"
   ]
  },
  {
   "cell_type": "markdown",
   "metadata": {},
   "source": [
    "#### 4. How to find the memory size of any array (★☆☆)"
   ]
  },
  {
   "cell_type": "code",
   "execution_count": 25,
   "metadata": {},
   "outputs": [
    {
     "name": "stdout",
     "output_type": "stream",
     "text": [
      "Array B uses 200000000 bytes\n"
     ]
    }
   ],
   "source": [
    "B = np.zeros((5000,5000))\n",
    "print(f\"Array B uses {B.size*B.itemsize} bytes\")"
   ]
  },
  {
   "cell_type": "markdown",
   "metadata": {},
   "source": [
    "#### 5. How to get the documentation of the numpy add function from the command line? (★☆☆)"
   ]
  },
  {
   "cell_type": "code",
   "execution_count": null,
   "metadata": {},
   "outputs": [],
   "source": [
    "# Issues with my zsh installation possibly"
   ]
  },
  {
   "cell_type": "markdown",
   "metadata": {},
   "source": [
    "#### 6. Create a null vector of size 10 but the fifth value which is 1 (★☆☆)"
   ]
  },
  {
   "cell_type": "code",
   "execution_count": 51,
   "metadata": {},
   "outputs": [
    {
     "name": "stdout",
     "output_type": "stream",
     "text": [
      "Z = np.zeros(10)\n",
      "Z[4] = 1\n",
      "print(Z)\n"
     ]
    }
   ],
   "source": [
    "C = np.zeros((10))\n",
    "C[4] = 1\n",
    "C"
   ]
  },
  {
   "cell_type": "markdown",
   "metadata": {},
   "source": [
    "#### 7. Create a vector with values ranging from 10 to 49 (★☆☆)"
   ]
  },
  {
   "cell_type": "code",
   "execution_count": 56,
   "metadata": {},
   "outputs": [
    {
     "data": {
      "text/plain": [
       "array([10, 11, 12, 13, 14, 15, 16, 17, 18, 19, 20, 21, 22, 23, 24, 25, 26,\n",
       "       27, 28, 29, 30, 31, 32, 33, 34, 35, 36, 37, 38, 39, 40, 41, 42, 43,\n",
       "       44, 45, 46, 47, 48, 49])"
      ]
     },
     "execution_count": 56,
     "metadata": {},
     "output_type": "execute_result"
    }
   ],
   "source": [
    "D = np.arange(10,50)\n",
    "D"
   ]
  },
  {
   "cell_type": "markdown",
   "metadata": {},
   "source": [
    "#### 8. Reverse a vector (first element becomes last) (★☆☆)"
   ]
  },
  {
   "cell_type": "code",
   "execution_count": 78,
   "metadata": {},
   "outputs": [
    {
     "name": "stdout",
     "output_type": "stream",
     "text": [
      "[ 0  2  4  6  8 10 12 14 16 18 20 22 24 26 28 30]\n",
      "[30 28 26 24 22 20 18 16 14 12 10  8  6  4  2  0]\n"
     ]
    }
   ],
   "source": [
    "E = np.arange(0,2**5,2)\n",
    "print(E)\n",
    "print(E[::-1])"
   ]
  },
  {
   "cell_type": "markdown",
   "metadata": {},
   "source": [
    "#### 9. Create a 3x3 matrix with values ranging from 0 to 8 (★☆☆)"
   ]
  },
  {
   "cell_type": "code",
   "execution_count": 85,
   "metadata": {},
   "outputs": [
    {
     "name": "stdout",
     "output_type": "stream",
     "text": [
      "Z = np.arange(9).reshape(3, 3)\n",
      "print(Z)\n"
     ]
    }
   ],
   "source": [
    "F = np.arange(0,9,1).reshape((3,3))\n",
    "F"
   ]
  },
  {
   "cell_type": "markdown",
   "metadata": {},
   "source": [
    "#### 10. Find indices of non-zero elements from [1,2,0,0,4,0] (★☆☆)"
   ]
  },
  {
   "cell_type": "code",
   "execution_count": 102,
   "metadata": {},
   "outputs": [
    {
     "data": {
      "text/plain": [
       "(array([0, 1, 4]),)"
      ]
     },
     "execution_count": 102,
     "metadata": {},
     "output_type": "execute_result"
    }
   ],
   "source": [
    "G = np.array([1,2,0,0,4,0])\n",
    "G.nonzero()"
   ]
  },
  {
   "cell_type": "markdown",
   "metadata": {},
   "source": [
    "#### 11. Create a 3x3 identity matrix (★☆☆)"
   ]
  },
  {
   "cell_type": "code",
   "execution_count": 123,
   "metadata": {},
   "outputs": [
    {
     "data": {
      "text/plain": [
       "array([[1, 0, 0, 0, 0, 0, 0, 0, 0, 0, 0, 0, 0, 0, 0, 0, 0, 0, 0, 0],\n",
       "       [0, 1, 0, 0, 0, 0, 0, 0, 0, 0, 0, 0, 0, 0, 0, 0, 0, 0, 0, 0],\n",
       "       [0, 0, 1, 0, 0, 0, 0, 0, 0, 0, 0, 0, 0, 0, 0, 0, 0, 0, 0, 0],\n",
       "       [0, 0, 0, 1, 0, 0, 0, 0, 0, 0, 0, 0, 0, 0, 0, 0, 0, 0, 0, 0],\n",
       "       [0, 0, 0, 0, 1, 0, 0, 0, 0, 0, 0, 0, 0, 0, 0, 0, 0, 0, 0, 0],\n",
       "       [0, 0, 0, 0, 0, 1, 0, 0, 0, 0, 0, 0, 0, 0, 0, 0, 0, 0, 0, 0],\n",
       "       [0, 0, 0, 0, 0, 0, 1, 0, 0, 0, 0, 0, 0, 0, 0, 0, 0, 0, 0, 0],\n",
       "       [0, 0, 0, 0, 0, 0, 0, 1, 0, 0, 0, 0, 0, 0, 0, 0, 0, 0, 0, 0],\n",
       "       [0, 0, 0, 0, 0, 0, 0, 0, 1, 0, 0, 0, 0, 0, 0, 0, 0, 0, 0, 0],\n",
       "       [0, 0, 0, 0, 0, 0, 0, 0, 0, 1, 0, 0, 0, 0, 0, 0, 0, 0, 0, 0],\n",
       "       [0, 0, 0, 0, 0, 0, 0, 0, 0, 0, 1, 0, 0, 0, 0, 0, 0, 0, 0, 0],\n",
       "       [0, 0, 0, 0, 0, 0, 0, 0, 0, 0, 0, 1, 0, 0, 0, 0, 0, 0, 0, 0],\n",
       "       [0, 0, 0, 0, 0, 0, 0, 0, 0, 0, 0, 0, 1, 0, 0, 0, 0, 0, 0, 0],\n",
       "       [0, 0, 0, 0, 0, 0, 0, 0, 0, 0, 0, 0, 0, 1, 0, 0, 0, 0, 0, 0],\n",
       "       [0, 0, 0, 0, 0, 0, 0, 0, 0, 0, 0, 0, 0, 0, 1, 0, 0, 0, 0, 0],\n",
       "       [0, 0, 0, 0, 0, 0, 0, 0, 0, 0, 0, 0, 0, 0, 0, 1, 0, 0, 0, 0],\n",
       "       [0, 0, 0, 0, 0, 0, 0, 0, 0, 0, 0, 0, 0, 0, 0, 0, 1, 0, 0, 0],\n",
       "       [0, 0, 0, 0, 0, 0, 0, 0, 0, 0, 0, 0, 0, 0, 0, 0, 0, 1, 0, 0],\n",
       "       [0, 0, 0, 0, 0, 0, 0, 0, 0, 0, 0, 0, 0, 0, 0, 0, 0, 0, 1, 0],\n",
       "       [0, 0, 0, 0, 0, 0, 0, 0, 0, 0, 0, 0, 0, 0, 0, 0, 0, 0, 0, 1]])"
      ]
     },
     "execution_count": 123,
     "metadata": {},
     "output_type": "execute_result"
    }
   ],
   "source": [
    "H = np.eye(20, k=0, dtype=\"int\")\n",
    "H"
   ]
  },
  {
   "cell_type": "markdown",
   "metadata": {},
   "source": [
    "#### 12. Create a 3x3x3 array with random values (★☆☆)"
   ]
  },
  {
   "cell_type": "code",
   "execution_count": 131,
   "metadata": {},
   "outputs": [
    {
     "data": {
      "text/plain": [
       "array([[[0.9023362 , 0.3963444 , 0.70755494],\n",
       "        [0.65910998, 0.40066476, 0.12490802],\n",
       "        [0.31696976, 0.39895008, 0.8494161 ]],\n",
       "\n",
       "       [[0.73257928, 0.94033332, 0.89901315],\n",
       "        [0.95350226, 0.48284182, 0.55828266],\n",
       "        [0.79686837, 0.90562181, 0.24171327]],\n",
       "\n",
       "       [[0.29216943, 0.21207888, 0.82995723],\n",
       "        [0.79392062, 0.73510238, 0.17900139],\n",
       "        [0.09683864, 0.57097528, 0.58156375]]])"
      ]
     },
     "execution_count": 131,
     "metadata": {},
     "output_type": "execute_result"
    }
   ],
   "source": [
    "I = np.random.random((3,3,3))\n",
    "I"
   ]
  },
  {
   "cell_type": "markdown",
   "metadata": {},
   "source": [
    "#### 13. Create a 10x10 array with random values and find the minimum and maximum values (★☆☆)"
   ]
  },
  {
   "cell_type": "code",
   "execution_count": 147,
   "metadata": {},
   "outputs": [
    {
     "name": "stdout",
     "output_type": "stream",
     "text": [
      "J\n",
      "min: 0.01802504145452488\n",
      "max: 0.9968727079983551\n"
     ]
    }
   ],
   "source": [
    "J = np.random.random((10,10))\n",
    "print(f\"J\\nmin: {J.min()}\\nmax: {J.max()}\")"
   ]
  },
  {
   "cell_type": "markdown",
   "metadata": {},
   "source": [
    "#### 14. Create a random vector of size 30 and find the mean value (★☆☆)"
   ]
  },
  {
   "cell_type": "code",
   "execution_count": 152,
   "metadata": {},
   "outputs": [
    {
     "name": "stdout",
     "output_type": "stream",
     "text": [
      "K mean: 0.5279548601444498\n"
     ]
    }
   ],
   "source": [
    "K = np.random.random((30))\n",
    "print(f\"K mean: {K.mean()}\")"
   ]
  },
  {
   "cell_type": "markdown",
   "metadata": {},
   "source": [
    "#### 15. Create a 2d array with 1 on the border and 0 inside (★☆☆)"
   ]
  },
  {
   "cell_type": "code",
   "execution_count": 209,
   "metadata": {},
   "outputs": [
    {
     "name": "stdout",
     "output_type": "stream",
     "text": [
      "Array shape: (15, 15)\n",
      "[[5 5 5 5 5 5 5 5 5 5 5 5 5 5 5]\n",
      " [5 4 4 4 4 4 4 4 4 4 4 4 4 4 5]\n",
      " [5 4 4 3 3 3 3 3 3 3 3 3 4 4 5]\n",
      " [5 4 3 3 2 2 2 2 2 2 2 3 3 4 5]\n",
      " [5 4 3 2 1 1 1 1 1 1 1 2 3 4 5]\n",
      " [5 4 3 2 1 0 0 0 0 0 1 2 3 4 5]\n",
      " [5 4 3 2 1 0 0 0 0 0 1 2 3 4 5]\n",
      " [5 4 3 2 1 0 0 0 0 0 1 2 3 4 5]\n",
      " [5 4 3 2 1 0 0 0 0 0 1 2 3 4 5]\n",
      " [5 4 3 2 1 0 0 0 0 0 1 2 3 4 5]\n",
      " [5 4 3 2 1 1 1 1 1 1 1 2 3 4 5]\n",
      " [5 4 3 3 2 2 2 2 2 2 2 3 3 4 5]\n",
      " [5 4 4 3 3 3 3 3 3 3 3 3 4 4 5]\n",
      " [5 4 4 4 4 4 4 4 4 4 4 4 4 4 5]\n",
      " [5 5 5 5 5 5 5 5 5 5 5 5 5 5 5]]\n"
     ]
    },
    {
     "data": {
      "image/png": "[encoded data removed]",
      "text/plain": [
       "<Figure size 432x288 with 1 Axes>"
      ]
     },
     "metadata": {
      "needs_background": "light"
     },
     "output_type": "display_data"
    }
   ],
   "source": [
    "L = np.zeros((5,5),dtype=\"int\")\n",
    "L = np.pad(L,5,mode='linear_ramp',end_values=5)\n",
    "# 15.5 Visualize Array\n",
    "def show(array):\n",
    "    print(f\"Array shape: {array.shape}\\n{array}\")\n",
    "    plt.imshow(array, interpolation='antialiased')\n",
    "    plt.show()\n",
    "show(L)"
   ]
  },
  {
   "cell_type": "markdown",
   "metadata": {},
   "source": [
    "#### 16. How to add a border (filled with 0's) around an existing array? (★☆☆)"
   ]
  },
  {
   "cell_type": "code",
   "execution_count": 222,
   "metadata": {},
   "outputs": [
    {
     "name": "stdout",
     "output_type": "stream",
     "text": [
      "Array shape: (30, 30)\n",
      "[[0.30935962 0.22459672 0.30935962 0.4857523  0.52180838 0.52737705\n",
      "  0.59261089 0.61864657 0.628383   0.30255057 0.20748571 0.30255057\n",
      "  0.628383   0.61864657 0.59261089 0.52737705 0.52180838 0.4857523\n",
      "  0.30935962 0.22459672 0.30935962 0.4857523  0.52180838 0.52737705\n",
      "  0.59261089 0.61864657 0.628383   0.30255057 0.20748571 0.30255057]\n",
      " [0.08697796 0.92801143 0.08697796 0.58005769 0.97064997 0.45759288\n",
      "  0.16480971 0.53375812 0.58259886 0.13580339 0.00240036 0.13580339\n",
      "  0.58259886 0.53375812 0.16480971 0.45759288 0.97064997 0.58005769\n",
      "  0.08697796 0.92801143 0.08697796 0.58005769 0.97064997 0.45759288\n",
      "  0.16480971 0.53375812 0.58259886 0.13580339 0.00240036 0.13580339]\n",
      " [0.30935962 0.22459672 0.30935962 0.4857523  0.52180838 0.52737705\n",
      "  0.59261089 0.61864657 0.628383   0.30255057 0.20748571 0.30255057\n",
      "  0.628383   0.61864657 0.59261089 0.52737705 0.52180838 0.4857523\n",
      "  0.30935962 0.22459672 0.30935962 0.4857523  0.52180838 0.52737705\n",
      "  0.59261089 0.61864657 0.628383   0.30255057 0.20748571 0.30255057]\n",
      " [0.36482332 0.999582   0.36482332 0.08219584 0.7751908  0.35964303\n",
      "  0.82937812 0.00778428 0.47492192 0.15987478 0.55476667 0.15987478\n",
      "  0.47492192 0.00778428 0.82937812 0.35964303 0.7751908  0.08219584\n",
      "  0.36482332 0.999582   0.36482332 0.08219584 0.7751908  0.35964303\n",
      "  0.82937812 0.00778428 0.47492192 0.15987478 0.55476667 0.15987478]\n",
      " [0.10123565 0.65033301 0.10123565 0.42466022 0.68887127 0.22005571\n",
      "  0.20916298 0.93869394 0.83715637 0.825257   0.95965163 0.825257\n",
      "  0.83715637 0.93869394 0.20916298 0.22005571 0.68887127 0.42466022\n",
      "  0.10123565 0.65033301 0.10123565 0.42466022 0.68887127 0.22005571\n",
      "  0.20916298 0.93869394 0.83715637 0.825257   0.95965163 0.825257  ]\n",
      " [0.01894754 0.09356743 0.01894754 0.60154111 0.79224623 0.27962913\n",
      "  0.15706013 0.6351288  0.18767451 0.05300484 0.86817688 0.05300484\n",
      "  0.18767451 0.6351288  0.15706013 0.27962913 0.79224623 0.60154111\n",
      "  0.01894754 0.09356743 0.01894754 0.60154111 0.79224623 0.27962913\n",
      "  0.15706013 0.6351288  0.18767451 0.05300484 0.86817688 0.05300484]\n",
      " [0.82517467 0.53045456 0.82517467 0.13132167 0.71181713 0.63200342\n",
      "  0.63428858 0.54187062 0.60123117 0.12016642 0.0210957  0.12016642\n",
      "  0.60123117 0.54187062 0.63428858 0.63200342 0.71181713 0.13132167\n",
      "  0.82517467 0.53045456 0.82517467 0.13132167 0.71181713 0.63200342\n",
      "  0.63428858 0.54187062 0.60123117 0.12016642 0.0210957  0.12016642]\n",
      " [0.19398665 0.48884444 0.19398665 0.37837697 0.00956499 0.73874593\n",
      "  0.90489778 0.76398599 0.44105276 0.58298418 0.7193976  0.58298418\n",
      "  0.44105276 0.76398599 0.90489778 0.73874593 0.00956499 0.37837697\n",
      "  0.19398665 0.48884444 0.19398665 0.37837697 0.00956499 0.73874593\n",
      "  0.90489778 0.76398599 0.44105276 0.58298418 0.7193976  0.58298418]\n",
      " [0.60240487 0.21833899 0.60240487 0.80398964 0.57343738 0.51842977\n",
      "  0.75132817 0.75877391 0.55106316 0.30856416 0.62084844 0.30856416\n",
      "  0.55106316 0.75877391 0.75132817 0.51842977 0.57343738 0.80398964\n",
      "  0.60240487 0.21833899 0.60240487 0.80398964 0.57343738 0.51842977\n",
      "  0.75132817 0.75877391 0.55106316 0.30856416 0.62084844 0.30856416]\n",
      " [0.90212506 0.3724611  0.90212506 0.09139118 0.21871969 0.34632515\n",
      "  0.32203029 0.99350007 0.38130854 0.28261214 0.75180847 0.28261214\n",
      "  0.38130854 0.99350007 0.32203029 0.34632515 0.21871969 0.09139118\n",
      "  0.90212506 0.3724611  0.90212506 0.09139118 0.21871969 0.34632515\n",
      "  0.32203029 0.99350007 0.38130854 0.28261214 0.75180847 0.28261214]\n",
      " [0.97975318 0.76015665 0.97975318 0.87747211 0.5269494  0.20401836\n",
      "  0.73281558 0.12575778 0.94495673 0.45446168 0.44935432 0.45446168\n",
      "  0.94495673 0.12575778 0.73281558 0.20401836 0.5269494  0.87747211\n",
      "  0.97975318 0.76015665 0.97975318 0.87747211 0.5269494  0.20401836\n",
      "  0.73281558 0.12575778 0.94495673 0.45446168 0.44935432 0.45446168]\n",
      " [0.90212506 0.3724611  0.90212506 0.09139118 0.21871969 0.34632515\n",
      "  0.32203029 0.99350007 0.38130854 0.28261214 0.75180847 0.28261214\n",
      "  0.38130854 0.99350007 0.32203029 0.34632515 0.21871969 0.09139118\n",
      "  0.90212506 0.3724611  0.90212506 0.09139118 0.21871969 0.34632515\n",
      "  0.32203029 0.99350007 0.38130854 0.28261214 0.75180847 0.28261214]\n",
      " [0.60240487 0.21833899 0.60240487 0.80398964 0.57343738 0.51842977\n",
      "  0.75132817 0.75877391 0.55106316 0.30856416 0.62084844 0.30856416\n",
      "  0.55106316 0.75877391 0.75132817 0.51842977 0.57343738 0.80398964\n",
      "  0.60240487 0.21833899 0.60240487 0.80398964 0.57343738 0.51842977\n",
      "  0.75132817 0.75877391 0.55106316 0.30856416 0.62084844 0.30856416]\n",
      " [0.19398665 0.48884444 0.19398665 0.37837697 0.00956499 0.73874593\n",
      "  0.90489778 0.76398599 0.44105276 0.58298418 0.7193976  0.58298418\n",
      "  0.44105276 0.76398599 0.90489778 0.73874593 0.00956499 0.37837697\n",
      "  0.19398665 0.48884444 0.19398665 0.37837697 0.00956499 0.73874593\n",
      "  0.90489778 0.76398599 0.44105276 0.58298418 0.7193976  0.58298418]\n",
      " [0.82517467 0.53045456 0.82517467 0.13132167 0.71181713 0.63200342\n",
      "  0.63428858 0.54187062 0.60123117 0.12016642 0.0210957  0.12016642\n",
      "  0.60123117 0.54187062 0.63428858 0.63200342 0.71181713 0.13132167\n",
      "  0.82517467 0.53045456 0.82517467 0.13132167 0.71181713 0.63200342\n",
      "  0.63428858 0.54187062 0.60123117 0.12016642 0.0210957  0.12016642]\n",
      " [0.01894754 0.09356743 0.01894754 0.60154111 0.79224623 0.27962913\n",
      "  0.15706013 0.6351288  0.18767451 0.05300484 0.86817688 0.05300484\n",
      "  0.18767451 0.6351288  0.15706013 0.27962913 0.79224623 0.60154111\n",
      "  0.01894754 0.09356743 0.01894754 0.60154111 0.79224623 0.27962913\n",
      "  0.15706013 0.6351288  0.18767451 0.05300484 0.86817688 0.05300484]\n",
      " [0.10123565 0.65033301 0.10123565 0.42466022 0.68887127 0.22005571\n",
      "  0.20916298 0.93869394 0.83715637 0.825257   0.95965163 0.825257\n",
      "  0.83715637 0.93869394 0.20916298 0.22005571 0.68887127 0.42466022\n",
      "  0.10123565 0.65033301 0.10123565 0.42466022 0.68887127 0.22005571\n",
      "  0.20916298 0.93869394 0.83715637 0.825257   0.95965163 0.825257  ]\n",
      " [0.36482332 0.999582   0.36482332 0.08219584 0.7751908  0.35964303\n",
      "  0.82937812 0.00778428 0.47492192 0.15987478 0.55476667 0.15987478\n",
      "  0.47492192 0.00778428 0.82937812 0.35964303 0.7751908  0.08219584\n",
      "  0.36482332 0.999582   0.36482332 0.08219584 0.7751908  0.35964303\n",
      "  0.82937812 0.00778428 0.47492192 0.15987478 0.55476667 0.15987478]\n",
      " [0.30935962 0.22459672 0.30935962 0.4857523  0.52180838 0.52737705\n",
      "  0.59261089 0.61864657 0.628383   0.30255057 0.20748571 0.30255057\n",
      "  0.628383   0.61864657 0.59261089 0.52737705 0.52180838 0.4857523\n",
      "  0.30935962 0.22459672 0.30935962 0.4857523  0.52180838 0.52737705\n",
      "  0.59261089 0.61864657 0.628383   0.30255057 0.20748571 0.30255057]\n",
      " [0.08697796 0.92801143 0.08697796 0.58005769 0.97064997 0.45759288\n",
      "  0.16480971 0.53375812 0.58259886 0.13580339 0.00240036 0.13580339\n",
      "  0.58259886 0.53375812 0.16480971 0.45759288 0.97064997 0.58005769\n",
      "  0.08697796 0.92801143 0.08697796 0.58005769 0.97064997 0.45759288\n",
      "  0.16480971 0.53375812 0.58259886 0.13580339 0.00240036 0.13580339]\n",
      " [0.30935962 0.22459672 0.30935962 0.4857523  0.52180838 0.52737705\n",
      "  0.59261089 0.61864657 0.628383   0.30255057 0.20748571 0.30255057\n",
      "  0.628383   0.61864657 0.59261089 0.52737705 0.52180838 0.4857523\n",
      "  0.30935962 0.22459672 0.30935962 0.4857523  0.52180838 0.52737705\n",
      "  0.59261089 0.61864657 0.628383   0.30255057 0.20748571 0.30255057]\n",
      " [0.36482332 0.999582   0.36482332 0.08219584 0.7751908  0.35964303\n",
      "  0.82937812 0.00778428 0.47492192 0.15987478 0.55476667 0.15987478\n",
      "  0.47492192 0.00778428 0.82937812 0.35964303 0.7751908  0.08219584\n",
      "  0.36482332 0.999582   0.36482332 0.08219584 0.7751908  0.35964303\n",
      "  0.82937812 0.00778428 0.47492192 0.15987478 0.55476667 0.15987478]\n",
      " [0.10123565 0.65033301 0.10123565 0.42466022 0.68887127 0.22005571\n",
      "  0.20916298 0.93869394 0.83715637 0.825257   0.95965163 0.825257\n",
      "  0.83715637 0.93869394 0.20916298 0.22005571 0.68887127 0.42466022\n",
      "  0.10123565 0.65033301 0.10123565 0.42466022 0.68887127 0.22005571\n",
      "  0.20916298 0.93869394 0.83715637 0.825257   0.95965163 0.825257  ]\n",
      " [0.01894754 0.09356743 0.01894754 0.60154111 0.79224623 0.27962913\n",
      "  0.15706013 0.6351288  0.18767451 0.05300484 0.86817688 0.05300484\n",
      "  0.18767451 0.6351288  0.15706013 0.27962913 0.79224623 0.60154111\n",
      "  0.01894754 0.09356743 0.01894754 0.60154111 0.79224623 0.27962913\n",
      "  0.15706013 0.6351288  0.18767451 0.05300484 0.86817688 0.05300484]\n",
      " [0.82517467 0.53045456 0.82517467 0.13132167 0.71181713 0.63200342\n",
      "  0.63428858 0.54187062 0.60123117 0.12016642 0.0210957  0.12016642\n",
      "  0.60123117 0.54187062 0.63428858 0.63200342 0.71181713 0.13132167\n",
      "  0.82517467 0.53045456 0.82517467 0.13132167 0.71181713 0.63200342\n",
      "  0.63428858 0.54187062 0.60123117 0.12016642 0.0210957  0.12016642]\n",
      " [0.19398665 0.48884444 0.19398665 0.37837697 0.00956499 0.73874593\n",
      "  0.90489778 0.76398599 0.44105276 0.58298418 0.7193976  0.58298418\n",
      "  0.44105276 0.76398599 0.90489778 0.73874593 0.00956499 0.37837697\n",
      "  0.19398665 0.48884444 0.19398665 0.37837697 0.00956499 0.73874593\n",
      "  0.90489778 0.76398599 0.44105276 0.58298418 0.7193976  0.58298418]\n",
      " [0.60240487 0.21833899 0.60240487 0.80398964 0.57343738 0.51842977\n",
      "  0.75132817 0.75877391 0.55106316 0.30856416 0.62084844 0.30856416\n",
      "  0.55106316 0.75877391 0.75132817 0.51842977 0.57343738 0.80398964\n",
      "  0.60240487 0.21833899 0.60240487 0.80398964 0.57343738 0.51842977\n",
      "  0.75132817 0.75877391 0.55106316 0.30856416 0.62084844 0.30856416]\n",
      " [0.90212506 0.3724611  0.90212506 0.09139118 0.21871969 0.34632515\n",
      "  0.32203029 0.99350007 0.38130854 0.28261214 0.75180847 0.28261214\n",
      "  0.38130854 0.99350007 0.32203029 0.34632515 0.21871969 0.09139118\n",
      "  0.90212506 0.3724611  0.90212506 0.09139118 0.21871969 0.34632515\n",
      "  0.32203029 0.99350007 0.38130854 0.28261214 0.75180847 0.28261214]\n",
      " [0.97975318 0.76015665 0.97975318 0.87747211 0.5269494  0.20401836\n",
      "  0.73281558 0.12575778 0.94495673 0.45446168 0.44935432 0.45446168\n",
      "  0.94495673 0.12575778 0.73281558 0.20401836 0.5269494  0.87747211\n",
      "  0.97975318 0.76015665 0.97975318 0.87747211 0.5269494  0.20401836\n",
      "  0.73281558 0.12575778 0.94495673 0.45446168 0.44935432 0.45446168]\n",
      " [0.90212506 0.3724611  0.90212506 0.09139118 0.21871969 0.34632515\n",
      "  0.32203029 0.99350007 0.38130854 0.28261214 0.75180847 0.28261214\n",
      "  0.38130854 0.99350007 0.32203029 0.34632515 0.21871969 0.09139118\n",
      "  0.90212506 0.3724611  0.90212506 0.09139118 0.21871969 0.34632515\n",
      "  0.32203029 0.99350007 0.38130854 0.28261214 0.75180847 0.28261214]]\n"
     ]
    },
    {
     "data": {
      "image/png": "[encoded data removed]",
      "text/plain": [
       "<Figure size 432x288 with 1 Axes>"
      ]
     },
     "metadata": {
      "needs_background": "light"
     },
     "output_type": "display_data"
    }
   ],
   "source": [
    "# M = np.arange(0,100).reshape((10,10))\n",
    "# M = np.pad(M,1,mode='constant',constant_values=0)\n",
    "M = np.random.random((10,10))\n",
    "show(np.pad(M, 10, mode=\"reflect\"))"
   ]
  },
  {
   "cell_type": "markdown",
   "metadata": {},
   "source": [
    "#### 17. What is the result of the following expression? (★☆☆)\n",
    "```python\n",
    "0 * np.nan\n",
    "np.nan == np.nan\n",
    "np.inf > np.nan\n",
    "np.nan - np.nan\n",
    "np.nan in set([np.nan])\n",
    "0.3 == 3 * 0.1\n",
    "```"
   ]
  },
  {
   "cell_type": "code",
   "execution_count": 242,
   "metadata": {},
   "outputs": [
    {
     "name": "stdout",
     "output_type": "stream",
     "text": [
      "print(0 * np.nan)\n",
      "print(np.nan == np.nan)\n",
      "print(np.inf > np.nan)\n",
      "print(np.nan - np.nan)\n",
      "print(np.nan in set([np.nan]))\n",
      "print(0.3 == 3 * 0.1)\n"
     ]
    }
   ],
   "source": [
    "answer(17)"
   ]
  },
  {
   "cell_type": "markdown",
   "metadata": {},
   "source": [
    "#### 18. Create a 5x5 matrix with values 1,2,3,4 just below the diagonal (★☆☆)"
   ]
  },
  {
   "cell_type": "code",
   "execution_count": 263,
   "metadata": {},
   "outputs": [
    {
     "data": {
      "text/plain": [
       "array([[0, 0, 0, 0, 0],\n",
       "       [1, 0, 0, 0, 0],\n",
       "       [0, 2, 0, 0, 0],\n",
       "       [0, 0, 3, 0, 0],\n",
       "       [0, 0, 0, 4, 0]])"
      ]
     },
     "execution_count": 263,
     "metadata": {},
     "output_type": "execute_result"
    }
   ],
   "source": [
    "np.diag(np.arange(1,5),k=-1)"
   ]
  },
  {
   "cell_type": "markdown",
   "metadata": {},
   "source": [
    "#### 19. Create a 8x8 matrix and fill it with a checkerboard pattern (★☆☆)"
   ]
  },
  {
   "cell_type": "code",
   "execution_count": 345,
   "metadata": {},
   "outputs": [
    {
     "name": "stdout",
     "output_type": "stream",
     "text": [
      "Array shape: (12, 12)\n",
      "[[0 0 0 1 0 1 0 1 0 1 1 1]\n",
      " [0 0 0 1 0 1 0 1 0 1 1 1]\n",
      " [0 0 0 1 0 1 0 1 0 1 1 1]\n",
      " [1 1 1 0 1 0 1 0 1 0 0 0]\n",
      " [0 0 0 1 0 1 0 1 0 1 1 1]\n",
      " [1 1 1 0 1 0 1 0 1 0 0 0]\n",
      " [0 0 0 1 0 1 0 1 0 1 1 1]\n",
      " [1 1 1 0 1 0 1 0 1 0 0 0]\n",
      " [0 0 0 1 0 1 0 1 0 1 1 1]\n",
      " [1 1 1 0 1 0 1 0 1 0 0 0]\n",
      " [1 1 1 0 1 0 1 0 1 0 0 0]\n",
      " [1 1 1 0 1 0 1 0 1 0 0 0]]\n"
     ]
    },
    {
     "data": {
      "image/png": "[encoded data removed]",
      "text/plain": [
       "<Figure size 432x288 with 1 Axes>"
      ]
     },
     "metadata": {
      "needs_background": "light"
     },
     "output_type": "display_data"
    }
   ],
   "source": [
    "O = np.zeros(8**2, dtype=\"int\").reshape((8,8))\n",
    "O[::2,1::2] = 1\n",
    "O[1::2,::2] = 1\n",
    "show(np.pad(O, 2, mode=\"edge\"))"
   ]
  },
  {
   "cell_type": "markdown",
   "metadata": {},
   "source": [
    "#### 20. Consider a (6,7,8) shape array, what is the index (x,y,z) of the 100th element?"
   ]
  },
  {
   "cell_type": "code",
   "execution_count": null,
   "metadata": {},
   "outputs": [],
   "source": []
  },
  {
   "cell_type": "markdown",
   "metadata": {},
   "source": [
    "#### 21. Create a checkerboard 8x8 matrix using the tile function (★☆☆)"
   ]
  },
  {
   "cell_type": "code",
   "execution_count": null,
   "metadata": {},
   "outputs": [],
   "source": []
  },
  {
   "cell_type": "markdown",
   "metadata": {},
   "source": [
    "#### 22. Normalize a 5x5 random matrix (★☆☆)"
   ]
  },
  {
   "cell_type": "code",
   "execution_count": null,
   "metadata": {},
   "outputs": [],
   "source": []
  },
  {
   "cell_type": "markdown",
   "metadata": {},
   "source": [
    "#### 23. Create a custom dtype that describes a color as four unsigned bytes (RGBA) (★☆☆)"
   ]
  },
  {
   "cell_type": "code",
   "execution_count": null,
   "metadata": {},
   "outputs": [],
   "source": []
  },
  {
   "cell_type": "markdown",
   "metadata": {},
   "source": [
    "#### 24. Multiply a 5x3 matrix by a 3x2 matrix (real matrix product) (★☆☆)"
   ]
  },
  {
   "cell_type": "code",
   "execution_count": null,
   "metadata": {},
   "outputs": [],
   "source": []
  },
  {
   "cell_type": "markdown",
   "metadata": {},
   "source": [
    "#### 25. Given a 1D array, negate all elements which are between 3 and 8, in place. (★☆☆)"
   ]
  },
  {
   "cell_type": "code",
   "execution_count": null,
   "metadata": {},
   "outputs": [],
   "source": []
  },
  {
   "cell_type": "markdown",
   "metadata": {},
   "source": [
    "#### 26. What is the output of the following script? (★☆☆)\n",
    "```python\n",
    "# Author: Jake VanderPlas\n",
    "\n",
    "print(sum(range(5),-1))\n",
    "from numpy import *\n",
    "print(sum(range(5),-1))\n",
    "```"
   ]
  },
  {
   "cell_type": "code",
   "execution_count": null,
   "metadata": {},
   "outputs": [],
   "source": []
  },
  {
   "cell_type": "markdown",
   "metadata": {},
   "source": [
    "#### 27. Consider an integer vector Z, which of these expressions are legal? (★☆☆)\n",
    "```python\n",
    "Z**Z\n",
    "2 << Z >> 2\n",
    "Z <- Z\n",
    "1j*Z\n",
    "Z/1/1\n",
    "Z<Z>Z\n",
    "```"
   ]
  },
  {
   "cell_type": "code",
   "execution_count": null,
   "metadata": {},
   "outputs": [],
   "source": []
  },
  {
   "cell_type": "markdown",
   "metadata": {},
   "source": [
    "#### 28. What are the result of the following expressions?\n",
    "```python\n",
    "np.array(0) / np.array(0)\n",
    "np.array(0) // np.array(0)\n",
    "np.array([np.nan]).astype(int).astype(float)\n",
    "```"
   ]
  },
  {
   "cell_type": "code",
   "execution_count": null,
   "metadata": {},
   "outputs": [],
   "source": []
  },
  {
   "cell_type": "markdown",
   "metadata": {},
   "source": [
    "#### 29. How to round away from zero a float array ? (★☆☆)"
   ]
  },
  {
   "cell_type": "code",
   "execution_count": null,
   "metadata": {},
   "outputs": [],
   "source": []
  },
  {
   "cell_type": "markdown",
   "metadata": {},
   "source": [
    "#### 30. How to find common values between two arrays? (★☆☆)"
   ]
  },
  {
   "cell_type": "code",
   "execution_count": null,
   "metadata": {},
   "outputs": [],
   "source": []
  },
  {
   "cell_type": "markdown",
   "metadata": {},
   "source": [
    "#### 31. How to ignore all numpy warnings (not recommended)? (★☆☆)"
   ]
  },
  {
   "cell_type": "code",
   "execution_count": null,
   "metadata": {},
   "outputs": [],
   "source": []
  },
  {
   "cell_type": "markdown",
   "metadata": {},
   "source": [
    "#### 32. Is the following expressions true? (★☆☆)\n",
    "```python\n",
    "np.sqrt(-1) == np.emath.sqrt(-1)\n",
    "```"
   ]
  },
  {
   "cell_type": "code",
   "execution_count": null,
   "metadata": {},
   "outputs": [],
   "source": []
  },
  {
   "cell_type": "markdown",
   "metadata": {},
   "source": [
    "#### 33. How to get the dates of yesterday, today and tomorrow? (★☆☆)"
   ]
  },
  {
   "cell_type": "code",
   "execution_count": null,
   "metadata": {},
   "outputs": [],
   "source": []
  },
  {
   "cell_type": "markdown",
   "metadata": {},
   "source": [
    "#### 34. How to get all the dates corresponding to the month of July 2016? (★★☆)"
   ]
  },
  {
   "cell_type": "code",
   "execution_count": null,
   "metadata": {},
   "outputs": [],
   "source": []
  },
  {
   "cell_type": "markdown",
   "metadata": {},
   "source": [
    "#### 35. How to compute ((A+B)*(-A/2)) in place (without copy)? (★★☆)"
   ]
  },
  {
   "cell_type": "code",
   "execution_count": null,
   "metadata": {},
   "outputs": [],
   "source": []
  },
  {
   "cell_type": "markdown",
   "metadata": {},
   "source": [
    "#### 36. Extract the integer part of a random array of positive numbers using 4 different methods (★★☆)"
   ]
  },
  {
   "cell_type": "code",
   "execution_count": null,
   "metadata": {},
   "outputs": [],
   "source": []
  },
  {
   "cell_type": "markdown",
   "metadata": {},
   "source": [
    "#### 37. Create a 5x5 matrix with row values ranging from 0 to 4 (★★☆)"
   ]
  },
  {
   "cell_type": "code",
   "execution_count": null,
   "metadata": {},
   "outputs": [],
   "source": []
  },
  {
   "cell_type": "markdown",
   "metadata": {},
   "source": [
    "#### 38. Consider a generator function that generates 10 integers and use it to build an array (★☆☆)"
   ]
  },
  {
   "cell_type": "code",
   "execution_count": null,
   "metadata": {},
   "outputs": [],
   "source": []
  },
  {
   "cell_type": "markdown",
   "metadata": {},
   "source": [
    "#### 39. Create a vector of size 10 with values ranging from 0 to 1, both excluded (★★☆)"
   ]
  },
  {
   "cell_type": "code",
   "execution_count": null,
   "metadata": {},
   "outputs": [],
   "source": []
  },
  {
   "cell_type": "markdown",
   "metadata": {},
   "source": [
    "#### 40. Create a random vector of size 10 and sort it (★★☆)"
   ]
  },
  {
   "cell_type": "code",
   "execution_count": null,
   "metadata": {},
   "outputs": [],
   "source": []
  },
  {
   "cell_type": "markdown",
   "metadata": {},
   "source": [
    "#### 41. How to sum a small array faster than np.sum? (★★☆)"
   ]
  },
  {
   "cell_type": "code",
   "execution_count": null,
   "metadata": {},
   "outputs": [],
   "source": []
  },
  {
   "cell_type": "markdown",
   "metadata": {},
   "source": [
    "#### 42. Consider two random array A and B, check if they are equal (★★☆)"
   ]
  },
  {
   "cell_type": "code",
   "execution_count": null,
   "metadata": {},
   "outputs": [],
   "source": []
  },
  {
   "cell_type": "markdown",
   "metadata": {},
   "source": [
    "#### 43. Make an array immutable (read-only) (★★☆)"
   ]
  },
  {
   "cell_type": "code",
   "execution_count": null,
   "metadata": {},
   "outputs": [],
   "source": []
  },
  {
   "cell_type": "markdown",
   "metadata": {},
   "source": [
    "#### 44. Consider a random 10x2 matrix representing cartesian coordinates, convert them to polar coordinates (★★☆)"
   ]
  },
  {
   "cell_type": "code",
   "execution_count": null,
   "metadata": {},
   "outputs": [],
   "source": []
  },
  {
   "cell_type": "markdown",
   "metadata": {},
   "source": [
    "#### 45. Create random vector of size 10 and replace the maximum value by 0 (★★☆)"
   ]
  },
  {
   "cell_type": "code",
   "execution_count": null,
   "metadata": {},
   "outputs": [],
   "source": []
  },
  {
   "cell_type": "markdown",
   "metadata": {},
   "source": [
    "#### 46. Create a structured array with `x` and `y` coordinates covering the [0,1]x[0,1] area (★★☆)"
   ]
  },
  {
   "cell_type": "code",
   "execution_count": null,
   "metadata": {},
   "outputs": [],
   "source": []
  },
  {
   "cell_type": "markdown",
   "metadata": {},
   "source": [
    "#### 47. Given two arrays, X and Y, construct the Cauchy matrix C (Cij =1/(xi - yj))"
   ]
  },
  {
   "cell_type": "code",
   "execution_count": null,
   "metadata": {},
   "outputs": [],
   "source": []
  },
  {
   "cell_type": "markdown",
   "metadata": {},
   "source": [
    "#### 48. Print the minimum and maximum representable value for each numpy scalar type (★★☆)"
   ]
  },
  {
   "cell_type": "code",
   "execution_count": null,
   "metadata": {},
   "outputs": [],
   "source": []
  },
  {
   "cell_type": "markdown",
   "metadata": {},
   "source": [
    "#### 49. How to print all the values of an array? (★★☆)"
   ]
  },
  {
   "cell_type": "code",
   "execution_count": null,
   "metadata": {},
   "outputs": [],
   "source": []
  },
  {
   "cell_type": "markdown",
   "metadata": {},
   "source": [
    "#### 50. How to find the closest value (to a given scalar) in a vector? (★★☆)"
   ]
  },
  {
   "cell_type": "code",
   "execution_count": null,
   "metadata": {},
   "outputs": [],
   "source": []
  },
  {
   "cell_type": "markdown",
   "metadata": {},
   "source": [
    "#### 51. Create a structured array representing a position (x,y) and a color (r,g,b) (★★☆)"
   ]
  },
  {
   "cell_type": "code",
   "execution_count": null,
   "metadata": {},
   "outputs": [],
   "source": []
  },
  {
   "cell_type": "markdown",
   "metadata": {},
   "source": [
    "#### 52. Consider a random vector with shape (100,2) representing coordinates, find point by point distances (★★☆)"
   ]
  },
  {
   "cell_type": "code",
   "execution_count": null,
   "metadata": {},
   "outputs": [],
   "source": []
  },
  {
   "cell_type": "markdown",
   "metadata": {},
   "source": [
    "#### 53. How to convert a float (32 bits) array into an integer (32 bits) in place?"
   ]
  },
  {
   "cell_type": "code",
   "execution_count": null,
   "metadata": {},
   "outputs": [],
   "source": []
  },
  {
   "cell_type": "markdown",
   "metadata": {},
   "source": [
    "#### 54. How to read the following file? (★★☆)\n",
    "```\n",
    "1, 2, 3, 4, 5\n",
    "6,  ,  , 7, 8\n",
    " ,  , 9,10,11\n",
    "```"
   ]
  },
  {
   "cell_type": "code",
   "execution_count": null,
   "metadata": {},
   "outputs": [],
   "source": []
  },
  {
   "cell_type": "markdown",
   "metadata": {},
   "source": [
    "#### 55. What is the equivalent of enumerate for numpy arrays? (★★☆)"
   ]
  },
  {
   "cell_type": "code",
   "execution_count": null,
   "metadata": {},
   "outputs": [],
   "source": []
  },
  {
   "cell_type": "markdown",
   "metadata": {},
   "source": [
    "#### 56. Generate a generic 2D Gaussian-like array (★★☆)"
   ]
  },
  {
   "cell_type": "code",
   "execution_count": null,
   "metadata": {},
   "outputs": [],
   "source": []
  },
  {
   "cell_type": "markdown",
   "metadata": {},
   "source": [
    "#### 57. How to randomly place p elements in a 2D array? (★★☆)"
   ]
  },
  {
   "cell_type": "code",
   "execution_count": null,
   "metadata": {},
   "outputs": [],
   "source": []
  },
  {
   "cell_type": "markdown",
   "metadata": {},
   "source": [
    "#### 58. Subtract the mean of each row of a matrix (★★☆)"
   ]
  },
  {
   "cell_type": "code",
   "execution_count": null,
   "metadata": {},
   "outputs": [],
   "source": []
  },
  {
   "cell_type": "markdown",
   "metadata": {},
   "source": [
    "#### 59. How to sort an array by the nth column? (★★☆)"
   ]
  },
  {
   "cell_type": "code",
   "execution_count": null,
   "metadata": {},
   "outputs": [],
   "source": []
  },
  {
   "cell_type": "markdown",
   "metadata": {},
   "source": [
    "#### 60. How to tell if a given 2D array has null columns? (★★☆)"
   ]
  },
  {
   "cell_type": "code",
   "execution_count": null,
   "metadata": {},
   "outputs": [],
   "source": []
  },
  {
   "cell_type": "markdown",
   "metadata": {},
   "source": [
    "#### 61. Find the nearest value from a given value in an array (★★☆)"
   ]
  },
  {
   "cell_type": "code",
   "execution_count": null,
   "metadata": {},
   "outputs": [],
   "source": []
  },
  {
   "cell_type": "markdown",
   "metadata": {},
   "source": [
    "#### 62. Considering two arrays with shape (1,3) and (3,1), how to compute their sum using an iterator? (★★☆)"
   ]
  },
  {
   "cell_type": "code",
   "execution_count": null,
   "metadata": {},
   "outputs": [],
   "source": []
  },
  {
   "cell_type": "markdown",
   "metadata": {},
   "source": [
    "#### 63. Create an array class that has a name attribute (★★☆)"
   ]
  },
  {
   "cell_type": "code",
   "execution_count": null,
   "metadata": {},
   "outputs": [],
   "source": []
  },
  {
   "cell_type": "markdown",
   "metadata": {},
   "source": [
    "#### 64. Consider a given vector, how to add 1 to each element indexed by a second vector (be careful with repeated indices)? (★★★)"
   ]
  },
  {
   "cell_type": "code",
   "execution_count": null,
   "metadata": {},
   "outputs": [],
   "source": []
  },
  {
   "cell_type": "markdown",
   "metadata": {},
   "source": [
    "#### 65. How to accumulate elements of a vector (X) to an array (F) based on an index list (I)? (★★★)"
   ]
  },
  {
   "cell_type": "code",
   "execution_count": null,
   "metadata": {},
   "outputs": [],
   "source": []
  },
  {
   "cell_type": "markdown",
   "metadata": {},
   "source": [
    "#### 66. Considering a (w,h,3) image of (dtype=ubyte), compute the number of unique colors (★★★)"
   ]
  },
  {
   "cell_type": "code",
   "execution_count": null,
   "metadata": {},
   "outputs": [],
   "source": []
  },
  {
   "cell_type": "markdown",
   "metadata": {},
   "source": [
    "#### 67. Considering a four dimensions array, how to get sum over the last two axis at once? (★★★)"
   ]
  },
  {
   "cell_type": "code",
   "execution_count": null,
   "metadata": {},
   "outputs": [],
   "source": []
  },
  {
   "cell_type": "markdown",
   "metadata": {},
   "source": [
    "#### 68. Considering a one-dimensional vector D, how to compute means of subsets of D using a vector S of same size describing subset  indices? (★★★)"
   ]
  },
  {
   "cell_type": "code",
   "execution_count": null,
   "metadata": {},
   "outputs": [],
   "source": []
  },
  {
   "cell_type": "markdown",
   "metadata": {},
   "source": [
    "#### 69. How to get the diagonal of a dot product? (★★★)"
   ]
  },
  {
   "cell_type": "code",
   "execution_count": null,
   "metadata": {},
   "outputs": [],
   "source": []
  },
  {
   "cell_type": "markdown",
   "metadata": {},
   "source": [
    "#### 70. Consider the vector [1, 2, 3, 4, 5], how to build a new vector with 3 consecutive zeros interleaved between each value? (★★★)"
   ]
  },
  {
   "cell_type": "code",
   "execution_count": null,
   "metadata": {},
   "outputs": [],
   "source": []
  },
  {
   "cell_type": "markdown",
   "metadata": {},
   "source": [
    "#### 71. Consider an array of dimension (5,5,3), how to mulitply it by an array with dimensions (5,5)? (★★★)"
   ]
  },
  {
   "cell_type": "code",
   "execution_count": null,
   "metadata": {},
   "outputs": [],
   "source": []
  },
  {
   "cell_type": "markdown",
   "metadata": {},
   "source": [
    "#### 72. How to swap two rows of an array? (★★★)"
   ]
  },
  {
   "cell_type": "code",
   "execution_count": null,
   "metadata": {},
   "outputs": [],
   "source": []
  },
  {
   "cell_type": "markdown",
   "metadata": {},
   "source": [
    "#### 73. Consider a set of 10 triplets describing 10 triangles (with shared vertices), find the set of unique line segments composing all the  triangles (★★★)"
   ]
  },
  {
   "cell_type": "code",
   "execution_count": null,
   "metadata": {},
   "outputs": [],
   "source": []
  },
  {
   "cell_type": "markdown",
   "metadata": {},
   "source": [
    "#### 74. Given an array C that is a bincount, how to produce an array A such that np.bincount(A) == C? (★★★)"
   ]
  },
  {
   "cell_type": "code",
   "execution_count": null,
   "metadata": {},
   "outputs": [],
   "source": []
  },
  {
   "cell_type": "markdown",
   "metadata": {},
   "source": [
    "#### 75. How to compute averages using a sliding window over an array? (★★★)"
   ]
  },
  {
   "cell_type": "code",
   "execution_count": null,
   "metadata": {},
   "outputs": [],
   "source": []
  },
  {
   "cell_type": "markdown",
   "metadata": {},
   "source": [
    "#### 76. Consider a one-dimensional array Z, build a two-dimensional array whose first row is (Z[0],Z[1],Z[2]) and each subsequent row is  shifted by 1 (last row should be (Z[-3],Z[-2],Z[-1]) (★★★)"
   ]
  },
  {
   "cell_type": "code",
   "execution_count": null,
   "metadata": {},
   "outputs": [],
   "source": []
  },
  {
   "cell_type": "markdown",
   "metadata": {},
   "source": [
    "#### 77. How to negate a boolean, or to change the sign of a float inplace? (★★★)"
   ]
  },
  {
   "cell_type": "code",
   "execution_count": null,
   "metadata": {},
   "outputs": [],
   "source": []
  },
  {
   "cell_type": "markdown",
   "metadata": {},
   "source": [
    "#### 78. Consider 2 sets of points P0,P1 describing lines (2d) and a point p, how to compute distance from p to each line i (P0[i],P1[i])? (★★★)"
   ]
  },
  {
   "cell_type": "code",
   "execution_count": null,
   "metadata": {},
   "outputs": [],
   "source": []
  },
  {
   "cell_type": "markdown",
   "metadata": {},
   "source": [
    "#### 79. Consider 2 sets of points P0,P1 describing lines (2d) and a set of points P, how to compute distance from each point j (P[j]) to each line i (P0[i],P1[i])? (★★★)"
   ]
  },
  {
   "cell_type": "code",
   "execution_count": null,
   "metadata": {},
   "outputs": [],
   "source": []
  },
  {
   "cell_type": "markdown",
   "metadata": {},
   "source": [
    "#### 80. Consider an arbitrary array, write a function that extract a subpart with a fixed shape and centered on a given element (pad with a `fill` value when necessary) (★★★)"
   ]
  },
  {
   "cell_type": "code",
   "execution_count": null,
   "metadata": {},
   "outputs": [],
   "source": []
  },
  {
   "cell_type": "markdown",
   "metadata": {},
   "source": [
    "#### 81. Consider an array Z = [1,2,3,4,5,6,7,8,9,10,11,12,13,14], how to generate an array R = [[1,2,3,4], [2,3,4,5], [3,4,5,6], ..., [11,12,13,14]]? (★★★)"
   ]
  },
  {
   "cell_type": "code",
   "execution_count": null,
   "metadata": {},
   "outputs": [],
   "source": []
  },
  {
   "cell_type": "markdown",
   "metadata": {},
   "source": [
    "#### 82. Compute a matrix rank (★★★)"
   ]
  },
  {
   "cell_type": "code",
   "execution_count": null,
   "metadata": {},
   "outputs": [],
   "source": []
  },
  {
   "cell_type": "markdown",
   "metadata": {},
   "source": [
    "#### 83. How to find the most frequent value in an array?"
   ]
  },
  {
   "cell_type": "code",
   "execution_count": null,
   "metadata": {},
   "outputs": [],
   "source": []
  },
  {
   "cell_type": "markdown",
   "metadata": {},
   "source": [
    "#### 84. Extract all the contiguous 3x3 blocks from a random 10x10 matrix (★★★)"
   ]
  },
  {
   "cell_type": "code",
   "execution_count": null,
   "metadata": {},
   "outputs": [],
   "source": []
  },
  {
   "cell_type": "markdown",
   "metadata": {},
   "source": [
    "#### 85. Create a 2D array subclass such that Z[i,j] == Z[j,i] (★★★)"
   ]
  },
  {
   "cell_type": "code",
   "execution_count": null,
   "metadata": {},
   "outputs": [],
   "source": []
  },
  {
   "cell_type": "markdown",
   "metadata": {},
   "source": [
    "#### 86. Consider a set of p matrices wich shape (n,n) and a set of p vectors with shape (n,1). How to compute the sum of of the p matrix products at once? (result has shape (n,1)) (★★★)"
   ]
  },
  {
   "cell_type": "code",
   "execution_count": null,
   "metadata": {},
   "outputs": [],
   "source": []
  },
  {
   "cell_type": "markdown",
   "metadata": {},
   "source": [
    "#### 87. Consider a 16x16 array, how to get the block-sum (block size is 4x4)? (★★★)"
   ]
  },
  {
   "cell_type": "code",
   "execution_count": null,
   "metadata": {},
   "outputs": [],
   "source": []
  },
  {
   "cell_type": "markdown",
   "metadata": {},
   "source": [
    "#### 88. How to implement the Game of Life using numpy arrays? (★★★)"
   ]
  },
  {
   "cell_type": "code",
   "execution_count": null,
   "metadata": {},
   "outputs": [],
   "source": []
  },
  {
   "cell_type": "markdown",
   "metadata": {},
   "source": [
    "#### 89. How to get the n largest values of an array (★★★)"
   ]
  },
  {
   "cell_type": "code",
   "execution_count": null,
   "metadata": {},
   "outputs": [],
   "source": []
  },
  {
   "cell_type": "markdown",
   "metadata": {},
   "source": [
    "#### 90. Given an arbitrary number of vectors, build the cartesian product (every combinations of every item) (★★★)"
   ]
  },
  {
   "cell_type": "code",
   "execution_count": null,
   "metadata": {},
   "outputs": [],
   "source": []
  },
  {
   "cell_type": "markdown",
   "metadata": {},
   "source": [
    "#### 91. How to create a record array from a regular array? (★★★)"
   ]
  },
  {
   "cell_type": "code",
   "execution_count": null,
   "metadata": {},
   "outputs": [],
   "source": []
  },
  {
   "cell_type": "markdown",
   "metadata": {},
   "source": [
    "#### 92. Consider a large vector Z, compute Z to the power of 3 using 3 different methods (★★★)"
   ]
  },
  {
   "cell_type": "code",
   "execution_count": null,
   "metadata": {},
   "outputs": [],
   "source": []
  },
  {
   "cell_type": "markdown",
   "metadata": {},
   "source": [
    "#### 93. Consider two arrays A and B of shape (8,3) and (2,2). How to find rows of A that contain elements of each row of B regardless of the order of the elements in B? (★★★)"
   ]
  },
  {
   "cell_type": "code",
   "execution_count": null,
   "metadata": {},
   "outputs": [],
   "source": []
  },
  {
   "cell_type": "markdown",
   "metadata": {},
   "source": [
    "#### 94. Considering a 10x3 matrix, extract rows with unequal values (e.g. [2,2,3]) (★★★)"
   ]
  },
  {
   "cell_type": "code",
   "execution_count": null,
   "metadata": {},
   "outputs": [],
   "source": []
  },
  {
   "cell_type": "markdown",
   "metadata": {},
   "source": [
    "#### 95. Convert a vector of ints into a matrix binary representation (★★★)"
   ]
  },
  {
   "cell_type": "code",
   "execution_count": null,
   "metadata": {},
   "outputs": [],
   "source": []
  },
  {
   "cell_type": "markdown",
   "metadata": {},
   "source": [
    "#### 96. Given a two dimensional array, how to extract unique rows? (★★★)"
   ]
  },
  {
   "cell_type": "code",
   "execution_count": null,
   "metadata": {},
   "outputs": [],
   "source": []
  },
  {
   "cell_type": "markdown",
   "metadata": {},
   "source": [
    "#### 97. Considering 2 vectors A & B, write the einsum equivalent of inner, outer, sum, and mul function (★★★)"
   ]
  },
  {
   "cell_type": "code",
   "execution_count": null,
   "metadata": {},
   "outputs": [],
   "source": []
  },
  {
   "cell_type": "markdown",
   "metadata": {},
   "source": [
    "#### 98. Considering a path described by two vectors (X,Y), how to sample it using equidistant samples (★★★)?"
   ]
  },
  {
   "cell_type": "code",
   "execution_count": null,
   "metadata": {},
   "outputs": [],
   "source": []
  },
  {
   "cell_type": "markdown",
   "metadata": {},
   "source": [
    "#### 99. Given an integer n and a 2D array X, select from X the rows which can be interpreted as draws from a multinomial distribution with n degrees, i.e., the rows which only contain integers and which sum to n. (★★★)"
   ]
  },
  {
   "cell_type": "code",
   "execution_count": null,
   "metadata": {},
   "outputs": [],
   "source": []
  },
  {
   "cell_type": "markdown",
   "metadata": {},
   "source": [
    "#### 100. Compute bootstrapped 95% confidence intervals for the mean of a 1D array X (i.e., resample the elements of an array with replacement N times, compute the mean of each sample, and then compute percentiles over the means). (★★★)"
   ]
  },
  {
   "cell_type": "code",
   "execution_count": null,
   "metadata": {},
   "outputs": [],
   "source": []
  }
 ],
 "metadata": {
  "kernelspec": {
   "display_name": "Python 3",
   "language": "python",
   "name": "python3"
  },
  "language_info": {
   "codemirror_mode": {
    "name": "ipython",
    "version": 3
   },
   "file_extension": ".py",
   "mimetype": "text/x-python",
   "name": "python",
   "nbconvert_exporter": "python",
   "pygments_lexer": "ipython3",
   "version": "3.7.3"
  }
 },
 "nbformat": 4,
 "nbformat_minor": 4
}
